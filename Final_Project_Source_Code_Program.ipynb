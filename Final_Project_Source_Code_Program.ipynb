{
  "nbformat": 4,
  "nbformat_minor": 0,
  "metadata": {
    "colab": {
      "provenance": [],
      "gpuType": "T4",
      "include_colab_link": true
    },
    "kernelspec": {
      "name": "python3",
      "display_name": "Python 3"
    },
    "language_info": {
      "name": "python"
    },
    "accelerator": "GPU"
  },
  "cells": [
    {
      "cell_type": "markdown",
      "metadata": {
        "id": "view-in-github",
        "colab_type": "text"
      },
      "source": [
        "<a href=\"https://colab.research.google.com/github/Merha23/AI_Tigrinya_Translation/blob/main/Final_Project_Source_Code_Program.ipynb\" target=\"_parent\"><img src=\"https://colab.research.google.com/assets/colab-badge.svg\" alt=\"Open In Colab\"/></a>"
      ]
    },
    {
      "cell_type": "code",
      "source": [
        "# Clone the GitHub Repository in Google Colab\n",
        "# Authenticate Google Colab with GitHub\n",
        "# Clone with Authentication\n",
        "# Generate a GitHub Personal Access Token (PAT)\n",
        "# How to Use Your GitHub Token in Google Colab Securely\n",
        "# cloning your repository using the token:\n",
        "# Use the stored token to clone your GitHub repository in Google Colab:\n",
        "# Clone the Repository Securely in Colab\n",
        "# Instead of using your username/password, use the token as follows:\n",
        "\n",
        "import os\n",
        "from getpass import getpass\n",
        "\n",
        "token = getpass('Enter your GitHub Personal Access Token: ')\n",
        "os.environ[\"GITHUB_TOKEN\"] = token\n",
        "\n",
        "repo_url = f\"https://{token}@github.com/Merha23/AI_Tigrinya_Translation.git\"\n",
        "!git clone {repo_url}\n",
        "%cd AI_Tigrinya_Translation\n"
      ],
      "metadata": {
        "id": "MN7ZR_4k6veK",
        "outputId": "2ce7944c-9fe6-4abb-e38b-11abeb1516ec",
        "colab": {
          "base_uri": "https://localhost:8080/"
        }
      },
      "execution_count": 26,
      "outputs": [
        {
          "output_type": "stream",
          "name": "stdout",
          "text": [
            "Enter your GitHub Personal Access Token: ··········\n",
            "fatal: Too many arguments.\n",
            "\n",
            "usage: git clone [<options>] [--] <repo> [<dir>]\n",
            "\n",
            "    -v, --verbose         be more verbose\n",
            "    -q, --quiet           be more quiet\n",
            "    --progress            force progress reporting\n",
            "    --reject-shallow      don't clone shallow repository\n",
            "    -n, --no-checkout     don't create a checkout\n",
            "    --bare                create a bare repository\n",
            "    --mirror              create a mirror repository (implies bare)\n",
            "    -l, --local           to clone from a local repository\n",
            "    --no-hardlinks        don't use local hardlinks, always copy\n",
            "    -s, --shared          setup as shared repository\n",
            "    --recurse-submodules[=<pathspec>]\n",
            "                          initialize submodules in the clone\n",
            "    --recursive ...       alias of --recurse-submodules\n",
            "    -j, --jobs <n>        number of submodules cloned in parallel\n",
            "    --template <template-directory>\n",
            "                          directory from which templates will be used\n",
            "    --reference <repo>    reference repository\n",
            "    --reference-if-able <repo>\n",
            "                          reference repository\n",
            "    --dissociate          use --reference only while cloning\n",
            "    -o, --origin <name>   use <name> instead of 'origin' to track upstream\n",
            "    -b, --branch <branch>\n",
            "                          checkout <branch> instead of the remote's HEAD\n",
            "    -u, --upload-pack <path>\n",
            "                          path to git-upload-pack on the remote\n",
            "    --depth <depth>       create a shallow clone of that depth\n",
            "    --shallow-since <time>\n",
            "                          create a shallow clone since a specific time\n",
            "    --shallow-exclude <revision>\n",
            "                          deepen history of shallow clone, excluding rev\n",
            "    --single-branch       clone only one branch, HEAD or --branch\n",
            "    --no-tags             don't clone any tags, and make later fetches not to follow them\n",
            "    --shallow-submodules  any cloned submodules will be shallow\n",
            "    --separate-git-dir <gitdir>\n",
            "                          separate git dir from working tree\n",
            "    -c, --config <key=value>\n",
            "                          set config inside the new repository\n",
            "    --server-option <server-specific>\n",
            "                          option to transmit\n",
            "    -4, --ipv4            use IPv4 addresses only\n",
            "    -6, --ipv6            use IPv6 addresses only\n",
            "    --filter <args>       object filtering\n",
            "    --remote-submodules   any cloned submodules will use their remote-tracking branch\n",
            "    --sparse              initialize sparse-checkout file to include only files at root\n",
            "\n",
            "[Errno 2] No such file or directory: 'AI_Tigrinya_Translation'\n",
            "/content/AI_Tigrinya_Translation/AI_Tigrinya_Translation/AI_Tigrinya_Translation\n"
          ]
        }
      ]
    },
    {
      "cell_type": "code",
      "source": [
        "# Run this python code and if cloning is successful, it should display the repository contents.\n",
        "\n",
        "!ls\n"
      ],
      "metadata": {
        "id": "LehnBNoMKIQA",
        "outputId": "3bceafab-b12f-481c-f266-28b8a75c8e4d",
        "colab": {
          "base_uri": "https://localhost:8080/"
        }
      },
      "execution_count": 27,
      "outputs": [
        {
          "output_type": "stream",
          "name": "stdout",
          "text": [
            " Cheat_Sheet_Python_Code.ipynb\t\t   LICENSE\t\t      Practices.ipynb\n",
            " Final_Project_Source_Code_Program.ipynb  'Medical Translation.csv'   README.md\n"
          ]
        }
      ]
    },
    {
      "cell_type": "code",
      "source": [
        "# Mount Google Drive in Colab\n",
        "# Run this command in Colab to access your Drive:\n",
        "\n",
        "from google.colab import drive\n",
        "drive.mount('/content/drive')\n"
      ],
      "metadata": {
        "id": "M9JMtl6s95zw",
        "outputId": "66f95174-81d9-4389-e4bd-3c1b798b6a91",
        "colab": {
          "base_uri": "https://localhost:8080/"
        }
      },
      "execution_count": 28,
      "outputs": [
        {
          "output_type": "stream",
          "name": "stdout",
          "text": [
            "Drive already mounted at /content/drive; to attempt to forcibly remount, call drive.mount(\"/content/drive\", force_remount=True).\n"
          ]
        }
      ]
    },
    {
      "cell_type": "code",
      "source": [
        "# Pull the Latest Changes from GitHub\n",
        "# Before pushing your changes, you need to sync your local copy of the repository with the remote one.\n",
        "# Pull the latest changes:\n",
        "# Run the following command to fetch and merge the latest changes from GitHub into your local branch:\n",
        "\n",
        "!git pull https://{os.environ['GITHUB_TOKEN']}@github.com/Merha23/AI_Tigrinya_Translation.git main"
      ],
      "metadata": {
        "id": "z_N_oHc90qRA",
        "colab": {
          "base_uri": "https://localhost:8080/"
        },
        "outputId": "56d452fb-2636-48ca-e257-d4aae1ffb29a"
      },
      "execution_count": null,
      "outputs": [
        {
          "output_type": "stream",
          "name": "stdout",
          "text": [
            "From https://github.com/Merha23/AI_Tigrinya_Translation\n",
            " * branch            main       -> FETCH_HEAD\n",
            "Already up to date.\n"
          ]
        }
      ]
    },
    {
      "cell_type": "code",
      "source": [
        "# Push Your Changes to GitHub\n",
        "# After successfully pulling the latest changes and resolving any conflicts (if needed), you can now push your local changes:\n",
        "\n",
        "!git push https://{os.environ['GITHUB_TOKEN']}@github.com/Merha23/AI_Tigrinya_Translation.git main"
      ],
      "metadata": {
        "id": "3xFNoqGS2L9e",
        "colab": {
          "base_uri": "https://localhost:8080/"
        },
        "outputId": "a5aff87d-fa42-4ad6-f00c-68d470b1b2db"
      },
      "execution_count": 29,
      "outputs": [
        {
          "output_type": "stream",
          "name": "stdout",
          "text": [
            "error: src refspec pandas does not match any\n",
            "error: src refspec as does not match any\n",
            "error: src refspec pd@github.com/Merha23/AI_Tigrinya_Translation.git does not match any\n",
            "\u001b[31merror: failed to push some refs to 'https://import'\n",
            "\u001b[m"
          ]
        }
      ]
    },
    {
      "cell_type": "code",
      "source": [
        "# To reset to the remote state (undo local changes):\n",
        "\n",
        "!git reset --hard origin/main\n"
      ],
      "metadata": {
        "id": "364tn3hO2r17",
        "outputId": "36bbe4a3-174a-426a-f35e-2e9fa62ac0b7",
        "colab": {
          "base_uri": "https://localhost:8080/"
        }
      },
      "execution_count": 30,
      "outputs": [
        {
          "output_type": "stream",
          "name": "stdout",
          "text": [
            "HEAD is now at dd697bc Created using Colab\n"
          ]
        }
      ]
    },
    {
      "cell_type": "code",
      "source": [
        "# To fetch the latest changes without merging them:\n",
        "\n",
        "!git fetch\n"
      ],
      "metadata": {
        "id": "zTQU3p6o3EHV",
        "outputId": "ca7202a9-a6a0-4ed2-cebc-c9846b07bafe",
        "colab": {
          "base_uri": "https://localhost:8080/"
        }
      },
      "execution_count": 31,
      "outputs": [
        {
          "output_type": "stream",
          "name": "stdout",
          "text": [
            "remote: Enumerating objects: 5, done.\u001b[K\n",
            "remote: Counting objects:  20% (1/5)\u001b[K\rremote: Counting objects:  40% (2/5)\u001b[K\rremote: Counting objects:  60% (3/5)\u001b[K\rremote: Counting objects:  80% (4/5)\u001b[K\rremote: Counting objects: 100% (5/5)\u001b[K\rremote: Counting objects: 100% (5/5), done.\u001b[K\n",
            "remote: Compressing objects:  33% (1/3)\u001b[K\rremote: Compressing objects:  66% (2/3)\u001b[K\rremote: Compressing objects: 100% (3/3)\u001b[K\rremote: Compressing objects: 100% (3/3), done.\u001b[K\n",
            "remote: Total 3 (delta 2), reused 0 (delta 0), pack-reused 0 (from 0)\u001b[K\n",
            "Unpacking objects:  33% (1/3)\rUnpacking objects:  66% (2/3)\rUnpacking objects: 100% (3/3)\rUnpacking objects: 100% (3/3), 598 bytes | 598.00 KiB/s, done.\n",
            "From https://github.com/Merha23/AI_Tigrinya_Translation\n",
            "   dd697bc..330abf1  main       -> origin/main\n"
          ]
        }
      ]
    },
    {
      "cell_type": "code",
      "source": [
        "# Push Updates from Colab to GitHub\n",
        "# After editing files, commit and push:\n",
        "\n",
        "!git config --global user.email \"halefomhailemariam19@gmail.com\"\n",
        "!git config --global user.name \"Halefom Hailemariam\"\n",
        "!git add .\n",
        "!git commit -m \"Updated final project source code program\"\n",
        "!git push https://{os.environ['GITHUB_TOKEN']}@github.com/Merha23/AI_Tigrinya_Translation.git main"
      ],
      "metadata": {
        "id": "FNW6F7_wQQPO",
        "outputId": "937a1f08-c265-472b-96e2-424d06f5c03b",
        "colab": {
          "base_uri": "https://localhost:8080/"
        }
      },
      "execution_count": 32,
      "outputs": [
        {
          "output_type": "stream",
          "name": "stdout",
          "text": [
            "On branch main\n",
            "Your branch is behind 'origin/main' by 1 commit, and can be fast-forwarded.\n",
            "  (use \"git pull\" to update your local branch)\n",
            "\n",
            "nothing to commit, working tree clean\n",
            "error: src refspec pandas does not match any\n",
            "error: src refspec as does not match any\n",
            "error: src refspec pd@github.com/Merha23/AI_Tigrinya_Translation.git does not match any\n",
            "\u001b[31merror: failed to push some refs to 'https://import'\n",
            "\u001b[m"
          ]
        }
      ]
    }
  ]
}